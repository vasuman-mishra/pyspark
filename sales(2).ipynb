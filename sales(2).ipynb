{
  "nbformat": 4,
  "nbformat_minor": 0,
  "metadata": {
    "colab": {
      "provenance": []
    },
    "kernelspec": {
      "name": "python3",
      "display_name": "Python 3"
    },
    "language_info": {
      "name": "python"
    }
  },
  "cells": [
    {
      "cell_type": "code",
      "execution_count": 2,
      "metadata": {
        "colab": {
          "base_uri": "https://localhost:8080/"
        },
        "id": "LNzVYtjeU3Uh",
        "outputId": "f00db688-fe0a-4e56-a5bc-fbbf3641a20b"
      },
      "outputs": [
        {
          "output_type": "stream",
          "name": "stdout",
          "text": [
            "+---+--------+--------------------+----------------+----------+----------------+--------------------+-----+------+--------------+----+\n",
            "|_c0|Order ID|             Product|Quantity Ordered|Price Each|      Order Date|    Purchase Address|Month| Sales|          City|Hour|\n",
            "+---+--------+--------------------+----------------+----------+----------------+--------------------+-----+------+--------------+----+\n",
            "|  0|  295665|  Macbook Pro Laptop|               1|    1700.0|30-12-2019 00:01|136 Church St, Ne...|   12|1700.0| New York City|   0|\n",
            "|  1|  295666|  LG Washing Machine|               1|     600.0|29-12-2019 07:03|562 2nd St, New Y...|   12| 600.0| New York City|   7|\n",
            "|  2|  295667|USB-C Charging Cable|               1|     11.95|12-12-2019 18:21|277 Main St, New ...|   12| 11.95| New York City|  18|\n",
            "|  3|  295668|    27in FHD Monitor|               1|    149.99|22-12-2019 15:13|410 6th St, San F...|   12|149.99| San Francisco|  15|\n",
            "|  4|  295669|USB-C Charging Cable|               1|     11.95|18-12-2019 12:38|43 Hill St, Atlan...|   12| 11.95|       Atlanta| -12|\n",
            "|  5|  295670|AA Batteries (4-p...|               1|      3.84|31-12-2019 22:58|200 Jefferson St,...|   12|  NULL| New York City| 122|\n",
            "|  6|  295671|USB-C Charging Cable|               1|     11.95|16-12-2019 15:10|928 12th St, Port...|   12| 11.95|      Portland|  15|\n",
            "|  7|  295672|USB-C Charging Cable|               2|     11.95|13-12-2019 09:29|813 Hickory St, D...|   12|  23.9|        Dallas|   9|\n",
            "|  8|  295673|Bose SoundSport H...|               1|     99.99|15-12-2019 23:26|718 Wilson St, Da...|   12| 99.99|        Dallas|  23|\n",
            "|  9|  295674|AAA Batteries (4-...|               4|      2.99|28-12-2019 11:51|77 7th St, Dallas...|   12| 11.96|        Dallas|  11|\n",
            "| 10|  295675|USB-C Charging Cable|               2|     11.95|13-12-2019 13:52|594 1st St, San F...|   12|  23.9| San Francisco|  13|\n",
            "| 11|  295676|     ThinkPad Laptop|               1|    999.99|28-12-2019 17:19|410 Lincoln St, L...|   12|999.99|   Los Angeles|  17|\n",
            "| 12|  295677|AA Batteries (4-p...|               2|      3.84|20-12-2019 19:19|866 Pine St, Bost...|   12|  7.68|        Boston| -19|\n",
            "| 13|  295678|AAA Batteries (4-...|               2|      2.99|06-12-2019 09:38|187 Lincoln St, D...|   12|  5.98|        Dallas|   9|\n",
            "| 14|  295679|USB-C Charging Cable|               1|     11.95|25-12-2019 09:39|902 2nd St, Dalla...|   12| 11.95|        Dallas|   9|\n",
            "| 15|  295680|Lightning Chargin...|               1|     14.95|01-12-2019 14:30|338 Main St, Aust...|   12| 14.95|        Austin|  14|\n",
            "| 16|  295681|        Google Phone|               1|     600.0|25-12-2019 12:37|79 Elm St, Boston...|   12| 600.0|        Boston|  12|\n",
            "| 17|  295681|USB-C Charging Cable|               1|     11.95|25-12-2019 12:37|79 Elm St, Boston...|   12|  NULL|        Boston|  12|\n",
            "| 18|  295681|Bose SoundSport H...|               1|     99.99|25-12-2019 12:37|79 Elm St, Boston...|   12| 99.99|        Boston|  12|\n",
            "| 19|  295681|    Wired Headphones|               1|     11.99|25-12-2019 12:37|79 Elm St, Boston...|   12| 11.99|        Boston|  12|\n",
            "+---+--------+--------------------+----------------+----------+----------------+--------------------+-----+------+--------------+----+\n",
            "only showing top 20 rows\n",
            "\n",
            "root\n",
            " |-- _c0: integer (nullable = true)\n",
            " |-- Order ID: integer (nullable = true)\n",
            " |-- Product: string (nullable = true)\n",
            " |-- Quantity Ordered: integer (nullable = true)\n",
            " |-- Price Each: double (nullable = true)\n",
            " |-- Order Date: string (nullable = true)\n",
            " |-- Purchase Address: string (nullable = true)\n",
            " |-- Month: integer (nullable = true)\n",
            " |-- Sales: double (nullable = true)\n",
            " |-- City: string (nullable = true)\n",
            " |-- Hour: integer (nullable = true)\n",
            "\n"
          ]
        }
      ],
      "source": [
        "from pyspark.sql import SparkSession\n",
        "\n",
        "# Initialize Spark session\n",
        "spark = SparkSession.builder.appName(\"DataCleaning\").getOrCreate()\n",
        "\n",
        "# Load dataset (replace 'path_to_file' with the actual path)\n",
        "df = spark.read.csv(\"Sales Data.csv\", header=True, inferSchema=True)\n",
        "\n",
        "# Display the loaded DataFrame\n",
        "df.show()\n",
        "# Verify column names and data types\n",
        "df.printSchema()\n"
      ]
    },
    {
      "cell_type": "code",
      "source": [
        "# Count null values in each column\n",
        "from pyspark.sql.functions import col, isnan, when, count\n",
        "\n",
        "df.select(\n",
        "    [count(when(col(c).isNull() | isnan(c), c)).alias(c) for c in df.columns]).show()"
      ],
      "metadata": {
        "colab": {
          "base_uri": "https://localhost:8080/"
        },
        "id": "KO_e429FVWWt",
        "outputId": "1cae2cfc-5d14-4cd9-f4f5-4e9c18b4a193"
      },
      "execution_count": 3,
      "outputs": [
        {
          "output_type": "stream",
          "name": "stdout",
          "text": [
            "+---+--------+-------+----------------+----------+----------+----------------+-----+-----+----+----+\n",
            "|_c0|Order ID|Product|Quantity Ordered|Price Each|Order Date|Purchase Address|Month|Sales|City|Hour|\n",
            "+---+--------+-------+----------------+----------+----------+----------------+-----+-----+----+----+\n",
            "|  0|       0|      0|               0|         0|         0|               0|    0|    3|   0|   0|\n",
            "+---+--------+-------+----------------+----------+----------+----------------+-----+-----+----+----+\n",
            "\n"
          ]
        }
      ]
    },
    {
      "cell_type": "code",
      "source": [
        "# Decide whether to fill or drop rows with missing values\n",
        "# For numerical columns, replace nulls with mean values\n",
        "from pyspark.sql.functions import mean\n",
        "\n",
        "numerical_columns = ['Sales', 'Quantity Ordered']\n",
        "for col_name in numerical_columns:\n",
        "    mean_value = df.select(mean(col_name)).collect()[0][0]\n",
        "    df = df.fillna({col_name: mean_value})\n",
        "\n",
        "# Drop rows with null values in critical columns\n",
        "df = df.dropna()\n"
      ],
      "metadata": {
        "id": "1a-VDriiVlFx"
      },
      "execution_count": 4,
      "outputs": []
    },
    {
      "cell_type": "code",
      "source": [
        "df = df.dropDuplicates()\n"
      ],
      "metadata": {
        "id": "tsmEwfCpVuHs"
      },
      "execution_count": 5,
      "outputs": []
    },
    {
      "cell_type": "code",
      "source": [
        "# Cast numerical columns to appropriate types\n",
        "df = df.withColumn(\"Sales\", col(\"Sales\").cast(\"float\"))\n",
        "df = df.withColumn(\"Quantity Ordered\", col(\"Quantity Ordered\").cast(\"integer\"))\n",
        "df = df.withColumn(\"Price Each\", col(\"Price Each\").cast(\"float\"))\n",
        "\n",
        "# Verify schema\n",
        "df.printSchema()\n"
      ],
      "metadata": {
        "colab": {
          "base_uri": "https://localhost:8080/"
        },
        "id": "nP_-9b7GVxCt",
        "outputId": "0afe18e7-9c00-4486-8a39-757508fec3e5"
      },
      "execution_count": 6,
      "outputs": [
        {
          "output_type": "stream",
          "name": "stdout",
          "text": [
            "root\n",
            " |-- _c0: integer (nullable = true)\n",
            " |-- Order ID: integer (nullable = true)\n",
            " |-- Product: string (nullable = true)\n",
            " |-- Quantity Ordered: integer (nullable = true)\n",
            " |-- Price Each: float (nullable = true)\n",
            " |-- Order Date: string (nullable = true)\n",
            " |-- Purchase Address: string (nullable = true)\n",
            " |-- Month: integer (nullable = true)\n",
            " |-- Sales: float (nullable = false)\n",
            " |-- City: string (nullable = true)\n",
            " |-- Hour: integer (nullable = true)\n",
            "\n"
          ]
        }
      ]
    },
    {
      "cell_type": "code",
      "source": [
        "# Remove rows with negative values in specific columns\n",
        "columns_to_check = ['Sales', 'Price Each', 'Quantity Ordered']\n",
        "for col_name in columns_to_check:\n",
        "    df = df.filter(col(col_name) >= 0)"
      ],
      "metadata": {
        "id": "9iktQFZyV1o1"
      },
      "execution_count": 7,
      "outputs": []
    },
    {
      "cell_type": "code",
      "source": [
        "# Calculate total sales per product\n",
        "df.groupBy(\"Product\").sum(\"Sales\").withColumnRenamed(\"sum(Sales)\", \"Total Sales\").show()"
      ],
      "metadata": {
        "colab": {
          "base_uri": "https://localhost:8080/"
        },
        "id": "Kv_nHRnNV7QG",
        "outputId": "19b911e7-a13f-4fc2-c8f8-42dd9c56a169"
      },
      "execution_count": 8,
      "outputs": [
        {
          "output_type": "stream",
          "name": "stdout",
          "text": [
            "+--------------------+------------------+\n",
            "|             Product|       Total Sales|\n",
            "+--------------------+------------------+\n",
            "|    Wired Headphones|246651.92929840088|\n",
            "|  Macbook Pro Laptop|         8037600.0|\n",
            "|Apple Airpods Hea...|         2349150.0|\n",
            "|              iPhone|         4794300.0|\n",
            "|Lightning Chargin...|347094.14547920227|\n",
            "|Bose SoundSport H...|1345565.4012680054|\n",
            "|USB-C Charging Cable| 286674.7890357971|\n",
            "|AAA Batteries (4-...| 92740.83064889908|\n",
            "|        20in Monitor| 454148.7011795044|\n",
            "|    27in FHD Monitor|1132424.5414733887|\n",
            "|     Vareebadd Phone|          827200.0|\n",
            "|34in Ultrawide Mo...|2355557.9494628906|\n",
            "|            LG Dryer|          387600.0|\n",
            "|AA Batteries (4-p...|106300.05223083496|\n",
            "|        Google Phone|         3319200.0|\n",
            "|       Flatscreen TV|         1445700.0|\n",
            "|  LG Washing Machine|          399600.0|\n",
            "|27in 4K Gaming Mo...|2435097.4990234375|\n",
            "|     ThinkPad Laptop|4129958.6596679688|\n",
            "+--------------------+------------------+\n",
            "\n"
          ]
        }
      ]
    }
  ]
}